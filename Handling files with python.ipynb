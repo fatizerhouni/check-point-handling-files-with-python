{
 "cells": [
  {
   "cell_type": "code",
   "execution_count": null,
   "id": "7ffd7bb0",
   "metadata": {},
   "outputs": [],
   "source": [
    "1-Pour lire un fichier texte entier :\n",
    "    \n",
    "def lire_fichier_entier(nom_fichier):\n",
    "    with open(nom_fichier, 'r') as f:\n",
    "        contenu = f.read()\n",
    "    return contenu\n",
    "\n",
    "nom_fichier = 'exemple.txt'\n",
    "contenu_fichier = lire_fichier_entier(nom_fichier)\n",
    "print(contenu_fichier)\n"
   ]
  },
  {
   "cell_type": "code",
   "execution_count": null,
   "id": "60de913a",
   "metadata": {},
   "outputs": [],
   "source": [
    "2- Pour lire les n premières lignes d'un fichier :\n",
    "\n",
    "def lire_n_premieres_lignes(nom_fichier, n):\n",
    "    with open(nom_fichier, 'r') as f:\n",
    "        lignes = f.readlines()\n",
    "    return ''.join(lignes[:n])\n",
    "\n",
    "nom_fichier = 'exemple.txt'\n",
    "n = 5\n",
    "premieres_lignes = lire_n_premieres_lignes(nom_fichier, n)\n",
    "print(premieres_lignes)\n"
   ]
  },
  {
   "cell_type": "code",
   "execution_count": null,
   "id": "59d53f8c",
   "metadata": {},
   "outputs": [],
   "source": [
    "3- Pour lire les n dernières lignes d'un fichier :\n",
    "\n",
    "def lire_n_dernieres_lignes(nom_fichier, n):\n",
    "    with open(nom_fichier, 'r') as f:\n",
    "        lignes = f.readlines()\n",
    "    return ''.join(lignes[-n:])\n",
    "\n",
    "nom_fichier = 'exemple.txt'\n",
    "n = 5\n",
    "dernieres_lignes = lire_n_dernieres_lignes(nom_fichier, n)\n",
    "print(dernieres_lignes)\n"
   ]
  },
  {
   "cell_type": "code",
   "execution_count": null,
   "id": "e2adf36b",
   "metadata": {},
   "outputs": [],
   "source": [
    "4- Pour compter le nombre de mots dans un fichier texte :\n",
    "def compter_mots(nom_fichier):\n",
    "    with open(nom_fichier, 'r') as f:\n",
    "        contenu = f.read()\n",
    "    mots = contenu.split()\n",
    "    return len(mots)\n",
    "\n",
    "nom_fichier = 'exemple.txt'\n",
    "nombre_mots = compter_mots(nom_fichier)\n",
    "print(\"Le nombre de mots dans le fichier est:\", nombre_mots)\n"
   ]
  },
  {
   "cell_type": "code",
   "execution_count": null,
   "id": "f3ad7009",
   "metadata": {},
   "outputs": [],
   "source": [
    "5- Pour lire les n dernières lignes d'un fichier "
   ]
  }
 ],
 "metadata": {
  "kernelspec": {
   "display_name": "Python 3 (ipykernel)",
   "language": "python",
   "name": "python3"
  },
  "language_info": {
   "codemirror_mode": {
    "name": "ipython",
    "version": 3
   },
   "file_extension": ".py",
   "mimetype": "text/x-python",
   "name": "python",
   "nbconvert_exporter": "python",
   "pygments_lexer": "ipython3",
   "version": "3.11.5"
  }
 },
 "nbformat": 4,
 "nbformat_minor": 5
}
